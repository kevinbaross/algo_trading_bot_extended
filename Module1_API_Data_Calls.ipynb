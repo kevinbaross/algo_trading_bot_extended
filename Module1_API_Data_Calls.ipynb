{
 "cells": [
  {
   "cell_type": "markdown",
   "id": "39abedbb-c84e-4ddf-9d17-449d7e1b8f46",
   "metadata": {},
   "source": [
    "# Data Import and Clean up\n",
    "    # Data Import and Clean Up covered in this Notebook - API DATA Calls.ipynb\n",
    "    # SMAs Continued in the SMAs.ipnb notebook to modularize the code"
   ]
  },
  {
   "cell_type": "code",
   "execution_count": null,
   "id": "d059b7e1-ef8f-4030-99fe-05c68eaee747",
   "metadata": {},
   "outputs": [],
   "source": [
    "def data_import_cleanup_function()\n",
    "    #Bitcoin historical daily prices USD\n",
    "    #Source: https://data.nasdaq.com/data/BCHAIN/MKPRU-bitcoin-market-price-usd\n",
    "    #btc_price = quandl.get('BCHAIN/MKPRU')\n",
    "    #btc_price.rename(columns={\"Value\":\"BTC Price\"}, inplace=True)\n",
    "    #btc_price.head()\n",
    "\n",
    "    #Yfinance to replace Quandl\n",
    "    btc = yf.Ticker(\"BTC-USD\")\n",
    "    btc_data = btc.history(period=\"max\")\n",
    "    #btc_data = btc_data.drop\n",
    "    #btc_data.head()\n",
    "    \n",
    "    #Etherium historical daily prices USD\n",
    "    eth = yf.Ticker(\"ETH-USD\")\n",
    "    eth_data = eth.history(period=\"max\")\n",
    "    #eth_data.head()\n",
    "    \n",
    "    #Consumer Sentiment Data\n",
    "    #Source: https://data.nasdaq.com/data/UMICH/SOC35-university-of-michigan-consumer-surveybuying-conditions-for-large-household-goods\n",
    "    #consumer_sentiment = quandl.get(\"UMICH/SOC35\")\n",
    "    #consumer_sentiment.head()\n",
    "    \n",
    "    #Fear and Greed Index API call\n",
    "    #source:https://alternative.me/crypto/fear-and-greed-index/\n",
    "    response = urlopen(\"https://api.alternative.me/fng/?limit=0&date_format=us\")\n",
    "    json_data = response.read().decode('utf-8', 'replace')\n",
    "    raw_fear_greed = json.loads(json_data)\n",
    "\n",
    "    #Flatten json data\n",
    "    fear_greed = pd.json_normalize(raw_fear_greed['data'])\n",
    "    fear_greed = fear_greed.set_index(\"timestamp\")\n",
    "    fear_greed.index.names = [\"Date\"]\n",
    "    fear_greed.index = pd.to_datetime(fear_greed.index)\n",
    "    fear_greed = fear_greed.drop(columns=\"time_until_update\")\n",
    "    #fear_greed.tail()\n",
    "    #fear_greed.head()\n",
    "    \n",
    "    #Combined dataframes\n",
    "    combined_values = pd.concat([eth_data, fear_greed], join=\"inner\", axis=1)\n",
    "    #combined_values.head()\n",
    "    \n",
    "    #Testing option for merged call to streamline API calls from quandl\n",
    "\n",
    "    #API call for merged dataset with BTC, ETH and Fear/Greed\n",
    "    #merged_dataset = quandl.MergedDataset([('WIKI/AAPL', {'column_index': [11]}), ('WIKI/MSFT', {'column_index': [9,11]}), 'WIKI/TWTR'])\n",
    "\n",
    "    #Get data for merged data set\n",
    "    #data = merged_dataset.data()\n",
    "\n",
    "    #Review data set\n",
    "    #display(data)\n",
    "\n",
    "    # Store Datafrome in memory\n",
    "    return %store combined_values"
   ]
  }
 ],
 "metadata": {
  "kernelspec": {
   "display_name": "Python (dev)",
   "language": "python",
   "name": "dev"
  },
  "language_info": {
   "codemirror_mode": {
    "name": "ipython",
    "version": 3
   },
   "file_extension": ".py",
   "mimetype": "text/x-python",
   "name": "python",
   "nbconvert_exporter": "python",
   "pygments_lexer": "ipython3",
   "version": "3.7.11"
  }
 },
 "nbformat": 4,
 "nbformat_minor": 5
}
