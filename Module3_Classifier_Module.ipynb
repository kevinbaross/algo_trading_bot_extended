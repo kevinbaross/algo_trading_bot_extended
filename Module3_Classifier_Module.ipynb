{
 "cells": [
  {
   "cell_type": "markdown",
   "id": "bc86bc85-fdb4-435e-96a1-7977fcee9a75",
   "metadata": {},
   "source": [
    "# Classifier Module\n"
   ]
  },
  {
   "cell_type": "code",
   "execution_count": null,
   "id": "c1e5cf52-965c-4eb5-b718-4afa1a31aa57",
   "metadata": {},
   "outputs": [],
   "source": [
    "# inputs to the function\n",
    "# classifier_name =  svm.SVC()\n",
    "# classifier_name =  LogisticRegression()\n",
    "# need to X_train_scaled, y_train\n",
    "\n",
    "\n",
    "def classifier_function(classifier_name, X_train_scaled, y_train, y_test)\n",
    "    # Initiate the model instance\n",
    "    model_instance = classifier_name\n",
    "    \n",
    "    # Fit the model to the data using the training data\n",
    "    model = model_instance.fit(X_train_scaled, y_train)\n",
    "    \n",
    "    # Use the testing data to make the model predictions\n",
    "    pred = model.predict(X_test_scaled)\n",
    "\n",
    "    # Review the model's predicted values\n",
    "    #pred[:10]\n",
    "    \n",
    "    # Review the classification report associated with the `classifier_name` model predictions. \n",
    "    # Use a classification report to evaluate the model using the predictions and testing data\n",
    "    model_testing_report =  classification_report(y_test, pred)\n",
    "       \n",
    "    # Print the classification report\n",
    "    #print(svm_testing_report)\n",
    "    \n",
    "    # Create a predictions DataFrame that contains columns for “Predicted” values, “Actual Returns”, and “Strategy Returns”.\n",
    "    # Create a new empty predictions DataFrame.\n",
    "        # Create a predictions DataFrame\n",
    "    new_predictions_df = pd.DataFrame(index=X_test.index)\n",
    "\n",
    "    # Add the classifier_name model predictions to the DataFrame\n",
    "    new_predictions_df['Predicted'] = pred\n",
    "\n",
    "    # Add the actual returns to the DataFrame\n",
    "    new_predictions_df['Actual Returns'] = signals_df['Actual Returns'] \n",
    "    \n",
    "    # Add the strategy returns to the DataFrame\n",
    "    new_predictions_df['Strategy Returns'] = (new_predictions_df['Actual Returns'] * new_predictions_df['Predicted'])\n",
    "\n",
    "    # Review the DataFrame\n",
    "    # display(new_predictions_df.head())\n",
    "    # display(new_predictions_df.tail())\n",
    "\n",
    "    # Create a cumulative return plot that shows the actual returns vs. the strategy returns. Save a PNG image of this plot. This will serve as a baseline against which to compare the effects of tuning the trading algorithm.\n",
    "    # Plot the actual returns versus the strategy returns\n",
    "    cumulative_return_plot = (1 + new_predictions_df[[\"Actual Returns\", \"Strategy Returns\"]]).cumprod().plot()\n",
    "    \n",
    "    return model_testing_report, cumulative_return_plot"
   ]
  },
  {
   "cell_type": "code",
   "execution_count": null,
   "id": "a9b2e8a7-620f-4974-9ff5-649217155ed8",
   "metadata": {},
   "outputs": [],
   "source": []
  }
 ],
 "metadata": {
  "kernelspec": {
   "display_name": "Python (dev)",
   "language": "python",
   "name": "dev"
  },
  "language_info": {
   "codemirror_mode": {
    "name": "ipython",
    "version": 3
   },
   "file_extension": ".py",
   "mimetype": "text/x-python",
   "name": "python",
   "nbconvert_exporter": "python",
   "pygments_lexer": "ipython3",
   "version": "3.7.11"
  }
 },
 "nbformat": 4,
 "nbformat_minor": 5
}
